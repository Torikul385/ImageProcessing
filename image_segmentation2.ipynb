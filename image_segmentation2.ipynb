{
  "nbformat": 4,
  "nbformat_minor": 0,
  "metadata": {
    "colab": {
      "provenance": [],
      "authorship_tag": "ABX9TyN+pASecoqz4rC48uZz3am4",
      "include_colab_link": true
    },
    "kernelspec": {
      "name": "python3",
      "display_name": "Python 3"
    },
    "language_info": {
      "name": "python"
    }
  },
  "cells": [
    {
      "cell_type": "markdown",
      "metadata": {
        "id": "view-in-github",
        "colab_type": "text"
      },
      "source": [
        "<a href=\"https://colab.research.google.com/github/Torikul385/ImageProcessing/blob/main/image_segmentation2.ipynb\" target=\"_parent\"><img src=\"https://colab.research.google.com/assets/colab-badge.svg\" alt=\"Open In Colab\"/></a>"
      ]
    },
    {
      "cell_type": "code",
      "execution_count": null,
      "metadata": {
        "colab": {
          "base_uri": "https://localhost:8080/"
        },
        "id": "mg5CTVS3gzfb",
        "outputId": "b587da80-9201-4a6e-c01b-208c32942938"
      },
      "outputs": [
        {
          "output_type": "stream",
          "name": "stdout",
          "text": [
            "\u001b[?25l     \u001b[90m━━━━━━━━━━━━━━━━━━━━━━━━━━━━━━━━━━━━━━━━\u001b[0m \u001b[32m0.0/1.0 MB\u001b[0m \u001b[31m?\u001b[0m eta \u001b[36m-:--:--\u001b[0m\r\u001b[2K     \u001b[91m━━━━━━\u001b[0m\u001b[91m╸\u001b[0m\u001b[90m━━━━━━━━━━━━━━━━━━━━━━━━━━━━━━━━━\u001b[0m \u001b[32m0.2/1.0 MB\u001b[0m \u001b[31m5.1 MB/s\u001b[0m eta \u001b[36m0:00:01\u001b[0m\r\u001b[2K     \u001b[91m━━━━━━━━━━━━━━━━━━━━━━\u001b[0m\u001b[91m╸\u001b[0m\u001b[90m━━━━━━━━━━━━━━━━━\u001b[0m \u001b[32m0.6/1.0 MB\u001b[0m \u001b[31m8.2 MB/s\u001b[0m eta \u001b[36m0:00:01\u001b[0m\r\u001b[2K     \u001b[91m━━━━━━━━━━━━━━━━━━━━━━━━━━━━━━━━━━━━━━━\u001b[0m\u001b[91m╸\u001b[0m \u001b[32m1.0/1.0 MB\u001b[0m \u001b[31m9.9 MB/s\u001b[0m eta \u001b[36m0:00:01\u001b[0m\r\u001b[2K     \u001b[90m━━━━━━━━━━━━━━━━━━━━━━━━━━━━━━━━━━━━━━━━\u001b[0m \u001b[32m1.0/1.0 MB\u001b[0m \u001b[31m8.3 MB/s\u001b[0m eta \u001b[36m0:00:00\u001b[0m\n",
            "\u001b[?25h\u001b[31mERROR: pip's dependency resolver does not currently take into account all the packages that are installed. This behaviour is the source of the following dependency conflicts.\n",
            "tensorflow 2.15.0 requires keras<2.16,>=2.15.0, but you have keras 3.0.4 which is incompatible.\u001b[0m\u001b[31m\n",
            "\u001b[0m"
          ]
        }
      ],
      "source": [
        "!pip install -q --upgrade keras"
      ]
    },
    {
      "cell_type": "code",
      "source": [
        "!wget -q  https://www.robots.ox.ac.uk/~vgg/data/pets/data/images.tar.gz\n",
        "!wget -q https://www.robots.ox.ac.uk/~vgg/data/pets/data/annotations.tar.gz"
      ],
      "metadata": {
        "id": "6VruZoByhRUQ"
      },
      "execution_count": null,
      "outputs": []
    },
    {
      "cell_type": "code",
      "source": [
        "# !curl  -O -q https://thor.robots.ox.ac.uk/datasets/pets/images.tar.gz\n",
        "# !curl  -O -q https://thor.robots.ox.ac.uk/datasets/pets/annotations.tar.gz"
      ],
      "metadata": {
        "colab": {
          "base_uri": "https://localhost:8080/"
        },
        "id": "nRcHNR_Zm3J0",
        "outputId": "4ac6758f-9c95-4847-8143-99a94982dc57"
      },
      "execution_count": null,
      "outputs": [
        {
          "output_type": "stream",
          "name": "stdout",
          "text": [
            "  % Total    % Received % Xferd  Average Speed   Time    Time     Time  Current\n",
            "                                 Dload  Upload   Total   Spent    Left  Speed\n",
            "100  755M  100  755M    0     0  29.1M      0  0:00:25  0:00:25 --:--:-- 30.4M\n",
            "  % Total    % Received % Xferd  Average Speed   Time    Time     Time  Current\n",
            "                                 Dload  Upload   Total   Spent    Left  Speed\n",
            "100 18.2M  100 18.2M    0     0  9948k      0  0:00:01  0:00:01 --:--:-- 9948k\n"
          ]
        }
      ]
    },
    {
      "cell_type": "code",
      "source": [
        "# !rm -r images.tar.gz\n",
        "# !rm -r annotations.tar.gz\n",
        "# !rm -r images\n",
        "# !rm -r annotations"
      ],
      "metadata": {
        "id": "U-eUzauLnlUc"
      },
      "execution_count": null,
      "outputs": []
    },
    {
      "cell_type": "code",
      "source": [
        "!tar -xf images.tar.gz\n",
        "!tar -xf annotations.tar.gz"
      ],
      "metadata": {
        "id": "L6NeQsKuizNe"
      },
      "execution_count": null,
      "outputs": []
    },
    {
      "cell_type": "code",
      "source": [
        "!find annotations/trimaps -type f | wc -l\n",
        "!find annotations/trimaps -mindepth 1 -type d | wc -l\n",
        "!find images -type f | wc -l\n",
        "!find images -mindepth 1 -type d | wc -l"
      ],
      "metadata": {
        "colab": {
          "base_uri": "https://localhost:8080/"
        },
        "id": "y_vTMXgEmgMv",
        "outputId": "42e4e299-c3c4-42e8-a451-c6a8e8d0ed37"
      },
      "execution_count": null,
      "outputs": [
        {
          "output_type": "stream",
          "name": "stdout",
          "text": [
            "14780\n",
            "0\n",
            "7393\n",
            "0\n"
          ]
        }
      ]
    },
    {
      "cell_type": "code",
      "source": [
        "import os\n",
        "import keras\n",
        "from keras import layers\n",
        "import tensorflow as tf"
      ],
      "metadata": {
        "id": "alymNPtUlSrV"
      },
      "execution_count": null,
      "outputs": []
    },
    {
      "cell_type": "code",
      "source": [
        "images_path = 'images'\n",
        "target_path = 'annotations/trimaps'\n",
        "\n",
        "images_path = os.listdir(images_path)\n",
        "target_path = os.listdir(target_path)\n",
        "file_types = []\n",
        "\n",
        "for path in images_path:\n",
        "  ext = path.split('.')[-1]\n",
        "  file_types.append(ext)\n",
        "\n",
        "file_types = list(set(file_types))\n",
        "\n",
        "target_file_types = []\n",
        "\n",
        "for path in target_path:\n",
        "  ext = path.split('.')[-1]\n",
        "  target_file_types.append(ext)\n",
        "\n",
        "target_file_types = list(set(target_file_types))\n",
        "\n",
        "print('file types in image dir: ', file_types)\n",
        "print('File types in annotations/trimaps : ', target_file_types)\n"
      ],
      "metadata": {
        "colab": {
          "base_uri": "https://localhost:8080/"
        },
        "id": "icA9_ofek84Y",
        "outputId": "cfd7d3f1-2d4d-48fc-d10e-abca1318808f"
      },
      "execution_count": null,
      "outputs": [
        {
          "output_type": "stream",
          "name": "stdout",
          "text": [
            "file types in image dir:  ['mat', 'jpg']\n",
            "File types in annotations/trimaps :  ['png']\n"
          ]
        }
      ]
    },
    {
      "cell_type": "code",
      "source": [
        "input_dir = 'images'\n",
        "input_deleted = 0\n",
        "\n",
        "target_dir = 'annotations/trimaps'\n",
        "target_deleted = 0\n",
        "\n",
        "for file in os.listdir(input_dir):\n",
        "  if not file.endswith('.jpg') or file.startswith('.'):\n",
        "    path = os.path.join(input_dir, file)\n",
        "    os.remove(path)\n",
        "    input_deleted +=1\n",
        "\n",
        "for file in os.listdir(target_dir):\n",
        "  if not file.endswith('.png') or file.startswith('.'):\n",
        "    path = os.path.join(target_dir, file)\n",
        "    os.remove(path)\n",
        "    target_deleted +=1\n",
        "\n",
        "print(\"Total deleted from input: \", input_deleted)\n",
        "print(\"Total deleted from target: \", target_deleted)"
      ],
      "metadata": {
        "colab": {
          "base_uri": "https://localhost:8080/"
        },
        "id": "SdzwKjOfmATN",
        "outputId": "017ec2c9-4392-4d78-f803-0ed9dd9ed59e"
      },
      "execution_count": null,
      "outputs": [
        {
          "output_type": "stream",
          "name": "stdout",
          "text": [
            "Total deleted from input:  3\n",
            "Total deleted from target:  7390\n"
          ]
        }
      ]
    },
    {
      "cell_type": "code",
      "source": [
        "!find annotations/trimaps -type f | wc -l\n",
        "!find images -type f | wc -l"
      ],
      "metadata": {
        "colab": {
          "base_uri": "https://localhost:8080/"
        },
        "id": "rxTbVMrBs1su",
        "outputId": "a14b0333-ffff-47c3-d127-4fbf7577ccbd"
      },
      "execution_count": null,
      "outputs": [
        {
          "output_type": "stream",
          "name": "stdout",
          "text": [
            "7390\n",
            "7390\n"
          ]
        }
      ]
    },
    {
      "cell_type": "code",
      "source": [
        "from google.colab import drive\n",
        "drive.mount('/content/drive')\n"
      ],
      "metadata": {
        "id": "nuaYrEA0vBGz",
        "colab": {
          "base_uri": "https://localhost:8080/"
        },
        "outputId": "670d2f21-1d5d-4b66-f5dc-d58aa40d5f6a"
      },
      "execution_count": null,
      "outputs": [
        {
          "output_type": "stream",
          "name": "stdout",
          "text": [
            "Mounted at /content/drive\n"
          ]
        }
      ]
    },
    {
      "cell_type": "code",
      "source": [
        "!git remote add origin git@github.com:Torikul385/ImageProcessing.git"
      ],
      "metadata": {
        "id": "GV3gfL5DViqW"
      },
      "execution_count": null,
      "outputs": []
    },
    {
      "cell_type": "code",
      "source": [
        "!git clone https://github.com/Torikul385/ImageProcessing.git"
      ],
      "metadata": {
        "colab": {
          "base_uri": "https://localhost:8080/"
        },
        "id": "ul5iJcPBVt57",
        "outputId": "00059d2c-c5d8-4230-b8e9-d90ac74e2b4a"
      },
      "execution_count": null,
      "outputs": [
        {
          "output_type": "stream",
          "name": "stdout",
          "text": [
            "Cloning into 'ImageProcessing'...\n",
            "warning: You appear to have cloned an empty repository.\n"
          ]
        }
      ]
    },
    {
      "cell_type": "code",
      "source": [
        "!mkdir ImageProcessing/ImageSegmentation"
      ],
      "metadata": {
        "id": "Qy71wz3sWgcj"
      },
      "execution_count": null,
      "outputs": []
    },
    {
      "cell_type": "code",
      "source": [
        "!cp \"/content/drive/MyDrive/Colab Notebooks/image segmentation2.ipynb\" ImageProcessing/ImageSegmentation"
      ],
      "metadata": {
        "id": "Mgh7Aq-wXen0"
      },
      "execution_count": null,
      "outputs": []
    },
    {
      "cell_type": "code",
      "source": [
        "!git add \"/content/ImageProcessing/ImageSegmentation/image segmentation2.ipynb\""
      ],
      "metadata": {
        "id": "ONRkEAPkY7si"
      },
      "execution_count": null,
      "outputs": []
    },
    {
      "cell_type": "code",
      "source": [
        "!git commit -m \"ImageProcessing/ImageSegmentation/image segmentation2.ipynb\"\n",
        "\n",
        "# Set up your GitHub username and email\n",
        "!git config  user.email \"mdtorikulislam385@gmail.com\"\n",
        "!git config  user.name \"Torikul385\"\n",
        "\n",
        "# Push the changes to GitHub\n",
        "!git push origin main"
      ],
      "metadata": {
        "colab": {
          "base_uri": "https://localhost:8080/"
        },
        "id": "ctK7SJpoWp6y",
        "outputId": "b88aacf7-8468-4ad6-f208-979c03f97fa6"
      },
      "execution_count": null,
      "outputs": [
        {
          "output_type": "stream",
          "name": "stdout",
          "text": [
            "On branch master\n",
            "\n",
            "Initial commit\n",
            "\n",
            "Untracked files:\n",
            "  (use \"git add <file>...\" to include in what will be committed)\n",
            "\t\u001b[31m.config/\u001b[m\n",
            "\t\u001b[31mImageProcessing/\u001b[m\n",
            "\t\u001b[31mdrive/\u001b[m\n",
            "\t\u001b[31msample_data/\u001b[m\n",
            "\n",
            "nothing added to commit but untracked files present (use \"git add\" to track)\n",
            "error: src refspec main does not match any\n",
            "\u001b[31merror: failed to push some refs to 'github.com:Torikul385/ImageProcessing.git'\n",
            "\u001b[m"
          ]
        }
      ]
    }
  ]
}